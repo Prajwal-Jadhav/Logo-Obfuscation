{
 "cells": [
  {
   "cell_type": "code",
   "execution_count": 19,
   "metadata": {},
   "outputs": [],
   "source": [
    "import torch\n",
    "import cv2\n",
    "import pandas as pd\n",
    "import numpy as np"
   ]
  },
  {
   "cell_type": "code",
   "execution_count": 20,
   "metadata": {},
   "outputs": [
    {
     "name": "stderr",
     "output_type": "stream",
     "text": [
      "Using cache found in C:\\Users\\prajwalj/.cache\\torch\\hub\\ultralytics_yolov5_master\n",
      "YOLOv5  2023-1-27 Python-3.9.13 torch-1.13.1+cpu CPU\n",
      "\n",
      "Fusing layers... \n",
      "Model summary: 157 layers, 7047883 parameters, 0 gradients\n",
      "Adding AutoShape... \n"
     ]
    }
   ],
   "source": [
    "model = torch.hub.load('ultralytics/yolov5', 'custom', path = './yolov5_v2.pt')\n",
    "\n",
    "im = './pepsi_logo.jpg'\n",
    "\n",
    "results = model(im)"
   ]
  },
  {
   "cell_type": "code",
   "execution_count": 21,
   "metadata": {},
   "outputs": [],
   "source": [
    "x1, y1 = None, None\n",
    "width, height = None, None"
   ]
  },
  {
   "cell_type": "code",
   "execution_count": 22,
   "metadata": {},
   "outputs": [
    {
     "name": "stdout",
     "output_type": "stream",
     "text": [
      "787 1200\n"
     ]
    }
   ],
   "source": [
    "for box in results.xyxy[0]: \n",
    "    xB = int(box[2])\n",
    "    xA = int(box[0])\n",
    "    yB = int(box[3])\n",
    "    yA = int(box[1])\n",
    "\n",
    "    w = xB - xA\n",
    "    h = yB - yA\n",
    "\n",
    "    x1, y1 = xA, yA\n",
    "    width, height = w, h\n",
    "\n",
    "    print(width, height)"
   ]
  },
  {
   "cell_type": "code",
   "execution_count": 23,
   "metadata": {},
   "outputs": [],
   "source": [
    "from PIL import Image"
   ]
  },
  {
   "cell_type": "code",
   "execution_count": 24,
   "metadata": {},
   "outputs": [],
   "source": [
    "with Image.open(\"./pepsi_logo.jpg\") as original, \\\n",
    "        Image.open(\"./custom_pepsi_logo.jpg\").convert(\"RGBA\") as custom_logo:\n",
    "    \n",
    "    # resize the custom logo\n",
    "    resize_custom_logo = custom_logo.resize((width, height))\n",
    "\n",
    "    # replace the portion of original logo with new custom logo\n",
    "    original.paste(resize_custom_logo, (x1, y1), mask=resize_custom_logo)\n",
    "\n",
    "    original.save(\"replaced_pepsi_logo.jpg\")\n"
   ]
  },
  {
   "cell_type": "code",
   "execution_count": null,
   "metadata": {},
   "outputs": [],
   "source": []
  }
 ],
 "metadata": {
  "kernelspec": {
   "display_name": "Python 3",
   "language": "python",
   "name": "python3"
  },
  "language_info": {
   "codemirror_mode": {
    "name": "ipython",
    "version": 3
   },
   "file_extension": ".py",
   "mimetype": "text/x-python",
   "name": "python",
   "nbconvert_exporter": "python",
   "pygments_lexer": "ipython3",
   "version": "3.9.13"
  },
  "orig_nbformat": 4,
  "vscode": {
   "interpreter": {
    "hash": "cc87b43501df38ab79294576ab96eeb1442b247357584ce37a45fbf970ffac3b"
   }
  }
 },
 "nbformat": 4,
 "nbformat_minor": 2
}
